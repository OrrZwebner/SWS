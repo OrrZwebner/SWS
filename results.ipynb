{
 "cells": [
  {
   "cell_type": "markdown",
   "metadata": {},
   "source": [
    "### Imports"
   ]
  },
  {
   "cell_type": "code",
   "execution_count": 5,
   "metadata": {},
   "outputs": [
    {
     "data": {
      "text/plain": [
       "'/home/orrz/projects/NLP/Final_Project'"
      ]
     },
     "execution_count": 5,
     "metadata": {},
     "output_type": "execute_result"
    }
   ],
   "source": [
    "import os\n",
    "os.environ[\"CUDA_VISIBLE_DEVICES\"] = \"2\"\n",
    "# change the current working directory to the parent directory\n",
    "os.chdir(\"..\")\n",
    "os.getcwd()"
   ]
  },
  {
   "cell_type": "code",
   "execution_count": 2,
   "metadata": {},
   "outputs": [
    {
     "name": "stderr",
     "output_type": "stream",
     "text": [
      "/home/orrz/projects/VAE/newenv/lib/python3.8/site-packages/tqdm/auto.py:21: TqdmWarning: IProgress not found. Please update jupyter and ipywidgets. See https://ipywidgets.readthedocs.io/en/stable/user_install.html\n",
      "  from .autonotebook import tqdm as notebook_tqdm\n",
      "2024-09-10 18:18:36.501927: I tensorflow/core/util/port.cc:110] oneDNN custom operations are on. You may see slightly different numerical results due to floating-point round-off errors from different computation orders. To turn them off, set the environment variable `TF_ENABLE_ONEDNN_OPTS=0`.\n",
      "2024-09-10 18:18:36.504108: I tensorflow/tsl/cuda/cudart_stub.cc:28] Could not find cuda drivers on your machine, GPU will not be used.\n",
      "2024-09-10 18:18:36.547645: I tensorflow/core/platform/cpu_feature_guard.cc:182] This TensorFlow binary is optimized to use available CPU instructions in performance-critical operations.\n",
      "To enable the following instructions: AVX2 AVX512F AVX512_VNNI FMA, in other operations, rebuild TensorFlow with the appropriate compiler flags.\n",
      "2024-09-10 18:18:37.249893: W tensorflow/compiler/tf2tensorrt/utils/py_utils.cc:38] TF-TRT Warning: Could not find TensorRT\n"
     ]
    }
   ],
   "source": [
    "import pandas as pd\n",
    "from src.model.eval import compute_sws_metrics\n",
    "from src.model.model import WordSegmentation\n",
    "from src.utilities import predict_labels\n",
    "\n",
    "\n",
    "\n"
   ]
  },
  {
   "cell_type": "markdown",
   "metadata": {},
   "source": [
    "### Our model"
   ]
  },
  {
   "cell_type": "code",
   "execution_count": 4,
   "metadata": {},
   "outputs": [
    {
     "name": "stderr",
     "output_type": "stream",
     "text": [
      "Some weights of T5ForTokenClassification were not initialized from the model checkpoint at google/byt5-small and are newly initialized: ['classifier.bias', 'classifier.weight']\n",
      "You should probably TRAIN this model on a down-stream task to be able to use it for predictions and inference.\n"
     ]
    },
    {
     "name": "stdout",
     "output_type": "stream",
     "text": [
      "device:cuda:0\n",
      "Model loaded from models/word_segmentation_300824\n"
     ]
    }
   ],
   "source": [
    "ws = WordSegmentation(device=\"cuda:0\")\n",
    "ws.load_model(path = \"models/word_segmentation_300824\")"
   ]
  },
  {
   "cell_type": "markdown",
   "metadata": {},
   "source": [
    "#### DCS dataset"
   ]
  },
  {
   "cell_type": "markdown",
   "metadata": {},
   "source": [
    "##### Load the data"
   ]
  },
  {
   "cell_type": "code",
   "execution_count": 3,
   "metadata": {},
   "outputs": [
    {
     "data": {
      "text/html": [
       "<div>\n",
       "<style scoped>\n",
       "    .dataframe tbody tr th:only-of-type {\n",
       "        vertical-align: middle;\n",
       "    }\n",
       "\n",
       "    .dataframe tbody tr th {\n",
       "        vertical-align: top;\n",
       "    }\n",
       "\n",
       "    .dataframe thead th {\n",
       "        text-align: right;\n",
       "    }\n",
       "</style>\n",
       "<table border=\"1\" class=\"dataframe\">\n",
       "  <thead>\n",
       "    <tr style=\"text-align: right;\">\n",
       "      <th></th>\n",
       "      <th>input_text</th>\n",
       "      <th>target_text</th>\n",
       "    </tr>\n",
       "  </thead>\n",
       "  <tbody>\n",
       "    <tr>\n",
       "      <th>0</th>\n",
       "      <td>marutvatīḥpratipadobhavanti</td>\n",
       "      <td>marutvatīḥ pratipado bhavanti</td>\n",
       "    </tr>\n",
       "    <tr>\n",
       "      <th>1</th>\n",
       "      <td>marutvantaṃgrahaṃgṛhṇanti</td>\n",
       "      <td>marutvantaṃ grahaṃ gṛhṇanti</td>\n",
       "    </tr>\n",
       "    <tr>\n",
       "      <th>2</th>\n",
       "      <td>marutvānvāindrovṛtramahanvārtrahatyāya</td>\n",
       "      <td>marutvān vā indro vṛtram ahan vārtrahatyāya</td>\n",
       "    </tr>\n",
       "    <tr>\n",
       "      <th>3</th>\n",
       "      <td>uccātejātamandhasāitiandhasvatīrbhavanti</td>\n",
       "      <td>uccā te jātam andhasā iti andhasvatīr bhavanti</td>\n",
       "    </tr>\n",
       "    <tr>\n",
       "      <th>4</th>\n",
       "      <td>aharvāandhaḥ</td>\n",
       "      <td>ahar vā andhaḥ</td>\n",
       "    </tr>\n",
       "  </tbody>\n",
       "</table>\n",
       "</div>"
      ],
      "text/plain": [
       "                                 input_text  \\\n",
       "0               marutvatīḥpratipadobhavanti   \n",
       "1                 marutvantaṃgrahaṃgṛhṇanti   \n",
       "2    marutvānvāindrovṛtramahanvārtrahatyāya   \n",
       "3  uccātejātamandhasāitiandhasvatīrbhavanti   \n",
       "4                              aharvāandhaḥ   \n",
       "\n",
       "                                      target_text  \n",
       "0                   marutvatīḥ pratipado bhavanti  \n",
       "1                     marutvantaṃ grahaṃ gṛhṇanti  \n",
       "2     marutvān vā indro vṛtram ahan vārtrahatyāya  \n",
       "3  uccā te jātam andhasā iti andhasvatīr bhavanti  \n",
       "4                                  ahar vā andhaḥ  "
      ]
     },
     "execution_count": 3,
     "metadata": {},
     "output_type": "execute_result"
    }
   ],
   "source": [
    "dcs_dataset = pd.read_csv(\"data/DCS_dataset.csv\")\n",
    "dcs_dataset.head()\n",
    "\n"
   ]
  },
  {
   "cell_type": "markdown",
   "metadata": {},
   "source": [
    "##### predict"
   ]
  },
  {
   "cell_type": "code",
   "execution_count": 6,
   "metadata": {},
   "outputs": [
    {
     "name": "stdout",
     "output_type": "stream",
     "text": [
      "DataFrame saved successfully to data/DCS_dataset_01_with_predictions_labels.csv\n",
      "                                                input_text  \\\n",
      "440992              vimānetārakābhūtvātāvatkālaṃnivatsyati   \n",
      "220332   śubhrāṃśuḥsphaṭikāabhrasāramihikātārābhracandr...   \n",
      "575713               yamunāgaṅgayāsārdhaṃsaṃgatālokapāvanā   \n",
      "1094638                ākāśavāyutejāṃsisalilaṃpṛthivītathā   \n",
      "72391           jñānaajñānaviśeṣāttumārgaamārgapravṛttayaḥ   \n",
      "\n",
      "                                               target_text  \\\n",
      "440992          vimāne tārakā bhūtvā tāvatkālaṃ nivatsyati   \n",
      "220332   śubhrāṃśuḥ sphaṭikā abhra sāra mihikā tārābhra...   \n",
      "575713          yamunā gaṅgayā sārdhaṃ saṃgatā loka pāvanā   \n",
      "1094638           ākāśa vāyu tejāṃsi salilaṃ pṛthivī tathā   \n",
      "72391     jñāna ajñāna viśeṣāt tu mārga amārga pravṛttayaḥ   \n",
      "\n",
      "                                             target_labels  \\\n",
      "440992   [0, 0, 0, 0, 0, 0, 1, 0, 0, 0, 0, 0, 0, 0, 1, ...   \n",
      "220332   [0, 0, 0, 0, 0, 0, 0, 0, 0, 0, 0, 0, 0, 0, 0, ...   \n",
      "575713   [0, 0, 0, 0, 0, 0, 1, 0, 0, 0, 0, 0, 0, 0, 0, ...   \n",
      "1094638  [0, 0, 0, 0, 0, 0, 0, 1, 0, 0, 0, 0, 1, 0, 0, ...   \n",
      "72391    [0, 0, 0, 0, 0, 0, 1, 0, 0, 0, 0, 0, 0, 0, 1, ...   \n",
      "\n",
      "                                               predictions  \\\n",
      "440992            vimāne tārakābhūtvātāvat kālaṃnivatsyati   \n",
      "220332   śubhrāṃśuḥsphaṭikāabhra sāramihikātārābhra can...   \n",
      "575713              yamunāgaṅgayāsārdhaṃsaṃgatāloka pāvanā   \n",
      "1094638             ākāśa vāyu tejāṃsi salilaṃpṛthivītathā   \n",
      "72391     jñāna ajñāna viśeṣāt tu mārga amārga pravṛttayaḥ   \n",
      "\n",
      "                                          predicted_labels  \n",
      "440992   [0, 0, 0, 0, 0, 0, 1, 0, 0, 0, 0, 0, 0, 0, 0, ...  \n",
      "220332   [0, 0, 0, 0, 0, 0, 0, 0, 0, 0, 0, 0, 0, 0, 0, ...  \n",
      "575713   [0, 0, 0, 0, 0, 0, 0, 0, 0, 0, 0, 0, 0, 0, 0, ...  \n",
      "1094638  [0, 0, 0, 0, 0, 0, 0, 1, 0, 0, 0, 0, 1, 0, 0, ...  \n",
      "72391    [0, 0, 0, 0, 0, 0, 1, 0, 0, 0, 0, 0, 0, 0, 1, ...  \n"
     ]
    }
   ],
   "source": [
    "# randomly generate 1 precetage of the dataset (out of 1.5M samples)\n",
    "dcs_dataset_001 = dcs_dataset.sample(frac=0.01, random_state=42)\n",
    "\n",
    "dcs_dataset_001_labeled = predict_labels(df=dcs_dataset_001, model=ws, dataset_name='DCS_dataset_01', input_col='input_text', target_col='target_text')"
   ]
  },
  {
   "cell_type": "code",
   "execution_count": 7,
   "metadata": {},
   "outputs": [
    {
     "data": {
      "text/html": [
       "<div>\n",
       "<style scoped>\n",
       "    .dataframe tbody tr th:only-of-type {\n",
       "        vertical-align: middle;\n",
       "    }\n",
       "\n",
       "    .dataframe tbody tr th {\n",
       "        vertical-align: top;\n",
       "    }\n",
       "\n",
       "    .dataframe thead th {\n",
       "        text-align: right;\n",
       "    }\n",
       "</style>\n",
       "<table border=\"1\" class=\"dataframe\">\n",
       "  <thead>\n",
       "    <tr style=\"text-align: right;\">\n",
       "      <th></th>\n",
       "      <th>input_text</th>\n",
       "      <th>target_text</th>\n",
       "      <th>target_labels</th>\n",
       "      <th>predictions</th>\n",
       "      <th>predicted_labels</th>\n",
       "    </tr>\n",
       "  </thead>\n",
       "  <tbody>\n",
       "    <tr>\n",
       "      <th>440992</th>\n",
       "      <td>vimānetārakābhūtvātāvatkālaṃnivatsyati</td>\n",
       "      <td>vimāne tārakā bhūtvā tāvatkālaṃ nivatsyati</td>\n",
       "      <td>[0, 0, 0, 0, 0, 0, 1, 0, 0, 0, 0, 0, 0, 0, 1, ...</td>\n",
       "      <td>vimāne tārakābhūtvātāvat kālaṃnivatsyati</td>\n",
       "      <td>[0, 0, 0, 0, 0, 0, 1, 0, 0, 0, 0, 0, 0, 0, 0, ...</td>\n",
       "    </tr>\n",
       "    <tr>\n",
       "      <th>220332</th>\n",
       "      <td>śubhrāṃśuḥsphaṭikāabhrasāramihikātārābhracandr...</td>\n",
       "      <td>śubhrāṃśuḥ sphaṭikā abhra sāra mihikā tārābhra...</td>\n",
       "      <td>[0, 0, 0, 0, 0, 0, 0, 0, 0, 0, 0, 0, 0, 0, 0, ...</td>\n",
       "      <td>śubhrāṃśuḥsphaṭikāabhra sāramihikātārābhra can...</td>\n",
       "      <td>[0, 0, 0, 0, 0, 0, 0, 0, 0, 0, 0, 0, 0, 0, 0, ...</td>\n",
       "    </tr>\n",
       "    <tr>\n",
       "      <th>575713</th>\n",
       "      <td>yamunāgaṅgayāsārdhaṃsaṃgatālokapāvanā</td>\n",
       "      <td>yamunā gaṅgayā sārdhaṃ saṃgatā loka pāvanā</td>\n",
       "      <td>[0, 0, 0, 0, 0, 0, 1, 0, 0, 0, 0, 0, 0, 0, 0, ...</td>\n",
       "      <td>yamunāgaṅgayāsārdhaṃsaṃgatāloka pāvanā</td>\n",
       "      <td>[0, 0, 0, 0, 0, 0, 0, 0, 0, 0, 0, 0, 0, 0, 0, ...</td>\n",
       "    </tr>\n",
       "    <tr>\n",
       "      <th>1094638</th>\n",
       "      <td>ākāśavāyutejāṃsisalilaṃpṛthivītathā</td>\n",
       "      <td>ākāśa vāyu tejāṃsi salilaṃ pṛthivī tathā</td>\n",
       "      <td>[0, 0, 0, 0, 0, 0, 0, 1, 0, 0, 0, 0, 1, 0, 0, ...</td>\n",
       "      <td>ākāśa vāyu tejāṃsi salilaṃpṛthivītathā</td>\n",
       "      <td>[0, 0, 0, 0, 0, 0, 0, 1, 0, 0, 0, 0, 1, 0, 0, ...</td>\n",
       "    </tr>\n",
       "    <tr>\n",
       "      <th>72391</th>\n",
       "      <td>jñānaajñānaviśeṣāttumārgaamārgapravṛttayaḥ</td>\n",
       "      <td>jñāna ajñāna viśeṣāt tu mārga amārga pravṛttayaḥ</td>\n",
       "      <td>[0, 0, 0, 0, 0, 0, 1, 0, 0, 0, 0, 0, 0, 0, 1, ...</td>\n",
       "      <td>jñāna ajñāna viśeṣāt tu mārga amārga pravṛttayaḥ</td>\n",
       "      <td>[0, 0, 0, 0, 0, 0, 1, 0, 0, 0, 0, 0, 0, 0, 1, ...</td>\n",
       "    </tr>\n",
       "  </tbody>\n",
       "</table>\n",
       "</div>"
      ],
      "text/plain": [
       "                                                input_text  \\\n",
       "440992              vimānetārakābhūtvātāvatkālaṃnivatsyati   \n",
       "220332   śubhrāṃśuḥsphaṭikāabhrasāramihikātārābhracandr...   \n",
       "575713               yamunāgaṅgayāsārdhaṃsaṃgatālokapāvanā   \n",
       "1094638                ākāśavāyutejāṃsisalilaṃpṛthivītathā   \n",
       "72391           jñānaajñānaviśeṣāttumārgaamārgapravṛttayaḥ   \n",
       "\n",
       "                                               target_text  \\\n",
       "440992          vimāne tārakā bhūtvā tāvatkālaṃ nivatsyati   \n",
       "220332   śubhrāṃśuḥ sphaṭikā abhra sāra mihikā tārābhra...   \n",
       "575713          yamunā gaṅgayā sārdhaṃ saṃgatā loka pāvanā   \n",
       "1094638           ākāśa vāyu tejāṃsi salilaṃ pṛthivī tathā   \n",
       "72391     jñāna ajñāna viśeṣāt tu mārga amārga pravṛttayaḥ   \n",
       "\n",
       "                                             target_labels  \\\n",
       "440992   [0, 0, 0, 0, 0, 0, 1, 0, 0, 0, 0, 0, 0, 0, 1, ...   \n",
       "220332   [0, 0, 0, 0, 0, 0, 0, 0, 0, 0, 0, 0, 0, 0, 0, ...   \n",
       "575713   [0, 0, 0, 0, 0, 0, 1, 0, 0, 0, 0, 0, 0, 0, 0, ...   \n",
       "1094638  [0, 0, 0, 0, 0, 0, 0, 1, 0, 0, 0, 0, 1, 0, 0, ...   \n",
       "72391    [0, 0, 0, 0, 0, 0, 1, 0, 0, 0, 0, 0, 0, 0, 1, ...   \n",
       "\n",
       "                                               predictions  \\\n",
       "440992            vimāne tārakābhūtvātāvat kālaṃnivatsyati   \n",
       "220332   śubhrāṃśuḥsphaṭikāabhra sāramihikātārābhra can...   \n",
       "575713              yamunāgaṅgayāsārdhaṃsaṃgatāloka pāvanā   \n",
       "1094638             ākāśa vāyu tejāṃsi salilaṃpṛthivītathā   \n",
       "72391     jñāna ajñāna viśeṣāt tu mārga amārga pravṛttayaḥ   \n",
       "\n",
       "                                          predicted_labels  \n",
       "440992   [0, 0, 0, 0, 0, 0, 1, 0, 0, 0, 0, 0, 0, 0, 0, ...  \n",
       "220332   [0, 0, 0, 0, 0, 0, 0, 0, 0, 0, 0, 0, 0, 0, 0, ...  \n",
       "575713   [0, 0, 0, 0, 0, 0, 0, 0, 0, 0, 0, 0, 0, 0, 0, ...  \n",
       "1094638  [0, 0, 0, 0, 0, 0, 0, 1, 0, 0, 0, 0, 1, 0, 0, ...  \n",
       "72391    [0, 0, 0, 0, 0, 0, 1, 0, 0, 0, 0, 0, 0, 0, 1, ...  "
      ]
     },
     "execution_count": 7,
     "metadata": {},
     "output_type": "execute_result"
    }
   ],
   "source": [
    "dcs_dataset_001_labeled.head()"
   ]
  },
  {
   "cell_type": "markdown",
   "metadata": {},
   "source": [
    "##### Evaluate"
   ]
  },
  {
   "cell_type": "code",
   "execution_count": 18,
   "metadata": {},
   "outputs": [
    {
     "name": "stdout",
     "output_type": "stream",
     "text": [
      "Sanity check passed: All predictions and labels have matching lengths.\n"
     ]
    },
    {
     "data": {
      "text/plain": [
       "{'Precision': array([95.90508587, 96.74635961]),\n",
       " 'Recall': array([99.70091208, 67.62823467]),\n",
       " 'F1 Score': array([97.76616908, 79.60823313]),\n",
       " 'Perfect Match (PM)': 15.101904443701972}"
      ]
     },
     "execution_count": 18,
     "metadata": {},
     "output_type": "execute_result"
    }
   ],
   "source": [
    "# Note that this is not the eval set but the original dataset (1% of it). Most of the samples are not in the train\\eval set.\n",
    "compute_sws_metrics(df=dcs_dataset_001_labeled, target_col=\"target_labels\")"
   ]
  },
  {
   "cell_type": "markdown",
   "metadata": {},
   "source": [
    "#### Sighum dataset"
   ]
  },
  {
   "cell_type": "markdown",
   "metadata": {},
   "source": [
    "##### Load the data"
   ]
  },
  {
   "cell_type": "code",
   "execution_count": 9,
   "metadata": {},
   "outputs": [
    {
     "data": {
      "text/html": [
       "<div>\n",
       "<style scoped>\n",
       "    .dataframe tbody tr th:only-of-type {\n",
       "        vertical-align: middle;\n",
       "    }\n",
       "\n",
       "    .dataframe tbody tr th {\n",
       "        vertical-align: top;\n",
       "    }\n",
       "\n",
       "    .dataframe thead th {\n",
       "        text-align: right;\n",
       "    }\n",
       "</style>\n",
       "<table border=\"1\" class=\"dataframe\">\n",
       "  <thead>\n",
       "    <tr style=\"text-align: right;\">\n",
       "      <th></th>\n",
       "      <th>sentence</th>\n",
       "      <th>unsandhied</th>\n",
       "      <th>unsandhied_input_text</th>\n",
       "      <th>sandhied_input_text</th>\n",
       "    </tr>\n",
       "  </thead>\n",
       "  <tbody>\n",
       "    <tr>\n",
       "      <th>0</th>\n",
       "      <td>kṛṣṇa uvāca</td>\n",
       "      <td>kṛṣṇaḥ uvāca</td>\n",
       "      <td>kṛṣṇaḥuvāca</td>\n",
       "      <td>kṛṣṇauvāca</td>\n",
       "    </tr>\n",
       "    <tr>\n",
       "      <th>1</th>\n",
       "      <td>śālvasya nagaraṃ saubhaṃ gato 'haṃ bharatarṣabha</td>\n",
       "      <td>śālvasya nagaram saubham gataḥ aham bharata ṛṣ...</td>\n",
       "      <td>śālvasyanagaramsaubhamgataḥahambharataṛṣabha</td>\n",
       "      <td>śālvasyanagaraṃsaubhaṃgato'haṃbharatarṣabha</td>\n",
       "    </tr>\n",
       "    <tr>\n",
       "      <th>2</th>\n",
       "      <td>śrutvā taṃ nihataṃ śālvas tīvraroṣasamanvitaḥ</td>\n",
       "      <td>śrutvā tam nihatam śālvaḥ tīvra roṣa samanvitaḥ</td>\n",
       "      <td>śrutvātamnihatamśālvaḥtīvraroṣasamanvitaḥ</td>\n",
       "      <td>śrutvātaṃnihataṃśālvastīvraroṣasamanvitaḥ</td>\n",
       "    </tr>\n",
       "    <tr>\n",
       "      <th>3</th>\n",
       "      <td>kumbhake kevale siddhe kiṃ na sidhyati bhūtale</td>\n",
       "      <td>kumbhake kevale siddhe kim na sidhyati bhū tale</td>\n",
       "      <td>kumbhakekevalesiddhekimnasidhyatibhūtale</td>\n",
       "      <td>kumbhakekevalesiddhekiṃnasidhyatibhūtale</td>\n",
       "    </tr>\n",
       "    <tr>\n",
       "      <th>4</th>\n",
       "      <td>taṃ hatvā vinivartiṣye kaṃsakeśiniṣūdanam</td>\n",
       "      <td>tam hatvā vinivartiṣye kaṃsa keśi niṣūdanam</td>\n",
       "      <td>tamhatvāvinivartiṣyekaṃsakeśiniṣūdanam</td>\n",
       "      <td>taṃhatvāvinivartiṣyekaṃsakeśiniṣūdanam</td>\n",
       "    </tr>\n",
       "  </tbody>\n",
       "</table>\n",
       "</div>"
      ],
      "text/plain": [
       "                                           sentence  \\\n",
       "0                                       kṛṣṇa uvāca   \n",
       "1  śālvasya nagaraṃ saubhaṃ gato 'haṃ bharatarṣabha   \n",
       "2     śrutvā taṃ nihataṃ śālvas tīvraroṣasamanvitaḥ   \n",
       "3    kumbhake kevale siddhe kiṃ na sidhyati bhūtale   \n",
       "4         taṃ hatvā vinivartiṣye kaṃsakeśiniṣūdanam   \n",
       "\n",
       "                                          unsandhied  \\\n",
       "0                                       kṛṣṇaḥ uvāca   \n",
       "1  śālvasya nagaram saubham gataḥ aham bharata ṛṣ...   \n",
       "2    śrutvā tam nihatam śālvaḥ tīvra roṣa samanvitaḥ   \n",
       "3    kumbhake kevale siddhe kim na sidhyati bhū tale   \n",
       "4        tam hatvā vinivartiṣye kaṃsa keśi niṣūdanam   \n",
       "\n",
       "                          unsandhied_input_text  \\\n",
       "0                                   kṛṣṇaḥuvāca   \n",
       "1  śālvasyanagaramsaubhamgataḥahambharataṛṣabha   \n",
       "2     śrutvātamnihatamśālvaḥtīvraroṣasamanvitaḥ   \n",
       "3      kumbhakekevalesiddhekimnasidhyatibhūtale   \n",
       "4        tamhatvāvinivartiṣyekaṃsakeśiniṣūdanam   \n",
       "\n",
       "                           sandhied_input_text  \n",
       "0                                   kṛṣṇauvāca  \n",
       "1  śālvasyanagaraṃsaubhaṃgato'haṃbharatarṣabha  \n",
       "2    śrutvātaṃnihataṃśālvastīvraroṣasamanvitaḥ  \n",
       "3     kumbhakekevalesiddhekiṃnasidhyatibhūtale  \n",
       "4       taṃhatvāvinivartiṣyekaṃsakeśiniṣūdanam  "
      ]
     },
     "execution_count": 9,
     "metadata": {},
     "output_type": "execute_result"
    }
   ],
   "source": [
    "sighum_dataset = pd.read_csv(\"data/sighum_dataset.csv\")\n",
    "sighum_dataset.head()"
   ]
  },
  {
   "cell_type": "markdown",
   "metadata": {},
   "source": [
    "##### predict"
   ]
  },
  {
   "cell_type": "code",
   "execution_count": 24,
   "metadata": {},
   "outputs": [
    {
     "name": "stdout",
     "output_type": "stream",
     "text": [
      "DataFrame saved successfully to data/sighum_datase_sandhied_with_predictions_labels.csv\n",
      "                                           sentence  \\\n",
      "0                                       kṛṣṇa uvāca   \n",
      "1  śālvasya nagaraṃ saubhaṃ gato 'haṃ bharatarṣabha   \n",
      "2     śrutvā taṃ nihataṃ śālvas tīvraroṣasamanvitaḥ   \n",
      "3    kumbhake kevale siddhe kiṃ na sidhyati bhūtale   \n",
      "4         taṃ hatvā vinivartiṣye kaṃsakeśiniṣūdanam   \n",
      "\n",
      "                                          unsandhied  \\\n",
      "0                                       kṛṣṇaḥ uvāca   \n",
      "1  śālvasya nagaram saubham gataḥ aham bharata ṛṣ...   \n",
      "2    śrutvā tam nihatam śālvaḥ tīvra roṣa samanvitaḥ   \n",
      "3    kumbhake kevale siddhe kim na sidhyati bhū tale   \n",
      "4        tam hatvā vinivartiṣye kaṃsa keśi niṣūdanam   \n",
      "\n",
      "                          unsandhied_input_text  \\\n",
      "0                                   kṛṣṇaḥuvāca   \n",
      "1  śālvasyanagaramsaubhamgataḥahambharataṛṣabha   \n",
      "2     śrutvātamnihatamśālvaḥtīvraroṣasamanvitaḥ   \n",
      "3      kumbhakekevalesiddhekimnasidhyatibhūtale   \n",
      "4        tamhatvāvinivartiṣyekaṃsakeśiniṣūdanam   \n",
      "\n",
      "                           sandhied_input_text  \\\n",
      "0                                   kṛṣṇauvāca   \n",
      "1  śālvasyanagaraṃsaubhaṃgato'haṃbharatarṣabha   \n",
      "2    śrutvātaṃnihataṃśālvastīvraroṣasamanvitaḥ   \n",
      "3     kumbhakekevalesiddhekiṃnasidhyatibhūtale   \n",
      "4       taṃhatvāvinivartiṣyekaṃsakeśiniṣūdanam   \n",
      "\n",
      "                                       target_labels  \\\n",
      "0  [0, 0, 0, 0, 0, 0, 0, 0, 0, 0, 1, 0, 0, 0, 0, ...   \n",
      "1  [0, 0, 0, 0, 0, 0, 0, 0, 0, 1, 0, 0, 0, 0, 0, ...   \n",
      "2  [0, 0, 0, 0, 0, 0, 0, 1, 0, 0, 0, 0, 1, 0, 0, ...   \n",
      "3  [0, 0, 0, 0, 0, 0, 0, 1, 0, 0, 0, 0, 0, 1, 0, ...   \n",
      "4  [0, 0, 0, 0, 1, 0, 0, 0, 0, 0, 1, 0, 0, 0, 0, ...   \n",
      "\n",
      "                                     predictions  \\\n",
      "0                                    kṛṣṇa uvāca   \n",
      "1  śālvasya nagaraṃsaubhaṃgato 'haṃbharatarṣabha   \n",
      "2   śrutvātaṃnihataṃśālvas tīvra roṣa samanvitaḥ   \n",
      "3  kumbhake kevale siddhe kiṃna sidhyati bhūtale   \n",
      "4      taṃhatvāvinivartiṣye kaṃsa keśi niṣūdanam   \n",
      "\n",
      "                                    predicted_labels  \n",
      "0  [0, 0, 0, 0, 0, 0, 0, 0, 0, 0, 1, 0, 0, 0, 0, ...  \n",
      "1  [0, 0, 0, 0, 0, 0, 0, 0, 0, 1, 0, 0, 0, 0, 0, ...  \n",
      "2  [0, 0, 0, 0, 0, 0, 0, 0, 0, 0, 0, 0, 0, 0, 0, ...  \n",
      "3  [0, 0, 0, 0, 0, 0, 0, 1, 0, 0, 0, 0, 0, 1, 0, ...  \n",
      "4  [0, 0, 0, 0, 0, 0, 0, 0, 0, 0, 0, 0, 0, 0, 0, ...  \n"
     ]
    }
   ],
   "source": [
    "sighum_dataset_sandhied_labeled = predict_labels(df=sighum_dataset, model=ws, dataset_name='sighum_datase_sandhied', input_col='sandhied_input_text', target_col='sentence')"
   ]
  },
  {
   "cell_type": "code",
   "execution_count": 13,
   "metadata": {},
   "outputs": [
    {
     "name": "stdout",
     "output_type": "stream",
     "text": [
      "DataFrame saved successfully to data/sighum_dataset_01_sandhied_with_predictions_labels.csv\n",
      "                                            sentence  \\\n",
      "41651  rakṣāmetāṃ prayuñjīta jale vātha sthale'pi vā   \n",
      "27556                       jalayogaśca kartavya iti   \n",
      "75266    eṣṭavyāḥ śataśastvanye caranti mama vājinaḥ   \n",
      "76513  evaṃ gate 'pi tu mayā yacchakyaṃ bhṛgunandana   \n",
      "34719      tapaścacāra vipulaṃ bhṛgurvarṣasahasrakam   \n",
      "\n",
      "                                              unsandhied  \\\n",
      "41651  rakṣām etām prayuñjīta jale vā atha sthale api vā   \n",
      "27556                        jala yogaḥ ca kartavyaḥ iti   \n",
      "75266      eṣṭavyāḥ śataśaḥ tu anye caranti mama vājinaḥ   \n",
      "76513      evam gate api tu mayā yat śakyam bhṛgunandana   \n",
      "34719       tapaḥ cacāra vipulam bhṛguḥ varṣa sahasrakam   \n",
      "\n",
      "                           unsandhied_input_text  \\\n",
      "41651  rakṣāmetāmprayuñjītajalevāathasthaleapivā   \n",
      "27556                    jalayogaḥcakartavyaḥiti   \n",
      "75266    eṣṭavyāḥśataśaḥtuanyecarantimamavājinaḥ   \n",
      "76513     evamgateapitumayāyatśakyambhṛgunandana   \n",
      "34719    tapaḥcacāravipulambhṛguḥvarṣasahasrakam   \n",
      "\n",
      "                            sandhied_input_text  \\\n",
      "41651  rakṣāmetāṃprayuñjītajalevāthasthale'pivā   \n",
      "27556                    jalayogaścakartavyaiti   \n",
      "75266   eṣṭavyāḥśataśastvanyecarantimamavājinaḥ   \n",
      "76513   evaṃgate'pitumayāyacchakyaṃbhṛgunandana   \n",
      "34719   tapaścacāravipulaṃbhṛgurvarṣasahasrakam   \n",
      "\n",
      "                                           target_labels  \\\n",
      "41651  [0, 0, 0, 0, 0, 0, 0, 0, 0, 0, 0, 0, 0, 0, 0, ...   \n",
      "27556  [0, 0, 0, 0, 0, 0, 0, 0, 0, 0, 0, 1, 0, 0, 0, ...   \n",
      "75266  [0, 0, 0, 0, 0, 0, 0, 0, 0, 0, 0, 0, 0, 0, 1, ...   \n",
      "76513  [0, 0, 0, 0, 0, 1, 0, 0, 0, 1, 0, 0, 1, 0, 1, ...   \n",
      "34719  [0, 0, 0, 0, 0, 0, 0, 0, 0, 0, 0, 0, 1, 0, 0, ...   \n",
      "\n",
      "                                          predictions  \\\n",
      "41651  rakṣām etāṃprayuñjīta jale vātha sthale 'pi vā   \n",
      "27556                        jalayogaśca kartavya iti   \n",
      "75266     eṣṭavyāḥśataśastv anye caranti mama vājinaḥ   \n",
      "76513     evaṃgate 'pi tu mayāyac chakyaṃbhṛgunandana   \n",
      "34719      tapaścacāra vipulaṃbhṛgur varṣa sahasrakam   \n",
      "\n",
      "                                        predicted_labels  \n",
      "41651  [0, 0, 0, 0, 0, 0, 0, 0, 1, 0, 0, 0, 0, 0, 0, ...  \n",
      "27556  [0, 0, 0, 0, 0, 0, 0, 0, 0, 0, 0, 1, 0, 0, 0, ...  \n",
      "75266  [0, 0, 0, 0, 0, 0, 0, 0, 0, 0, 0, 0, 0, 0, 0, ...  \n",
      "76513  [0, 0, 0, 0, 0, 0, 0, 0, 0, 1, 0, 0, 1, 0, 1, ...  \n",
      "34719  [0, 0, 0, 0, 0, 0, 0, 0, 0, 0, 0, 0, 1, 0, 0, ...  \n",
      "DataFrame saved successfully to data/sighum_dataset_01_unsandhied_with_predictions_labels.csv\n",
      "                                            sentence  \\\n",
      "41651  rakṣāmetāṃ prayuñjīta jale vātha sthale'pi vā   \n",
      "27556                       jalayogaśca kartavya iti   \n",
      "75266    eṣṭavyāḥ śataśastvanye caranti mama vājinaḥ   \n",
      "76513  evaṃ gate 'pi tu mayā yacchakyaṃ bhṛgunandana   \n",
      "34719      tapaścacāra vipulaṃ bhṛgurvarṣasahasrakam   \n",
      "\n",
      "                                              unsandhied  \\\n",
      "41651  rakṣām etām prayuñjīta jale vā atha sthale api vā   \n",
      "27556                        jala yogaḥ ca kartavyaḥ iti   \n",
      "75266      eṣṭavyāḥ śataśaḥ tu anye caranti mama vājinaḥ   \n",
      "76513      evam gate api tu mayā yat śakyam bhṛgunandana   \n",
      "34719       tapaḥ cacāra vipulam bhṛguḥ varṣa sahasrakam   \n",
      "\n",
      "                           unsandhied_input_text  \\\n",
      "41651  rakṣāmetāmprayuñjītajalevāathasthaleapivā   \n",
      "27556                    jalayogaḥcakartavyaḥiti   \n",
      "75266    eṣṭavyāḥśataśaḥtuanyecarantimamavājinaḥ   \n",
      "76513     evamgateapitumayāyatśakyambhṛgunandana   \n",
      "34719    tapaḥcacāravipulambhṛguḥvarṣasahasrakam   \n",
      "\n",
      "                            sandhied_input_text  \\\n",
      "41651  rakṣāmetāṃprayuñjītajalevāthasthale'pivā   \n",
      "27556                    jalayogaścakartavyaiti   \n",
      "75266   eṣṭavyāḥśataśastvanyecarantimamavājinaḥ   \n",
      "76513   evaṃgate'pitumayāyacchakyaṃbhṛgunandana   \n",
      "34719   tapaścacāravipulaṃbhṛgurvarṣasahasrakam   \n",
      "\n",
      "                                           target_labels  \\\n",
      "41651  [0, 0, 0, 0, 0, 0, 0, 0, 1, 0, 0, 0, 0, 1, 0, ...   \n",
      "27556  [0, 0, 0, 1, 0, 0, 0, 0, 0, 0, 1, 0, 1, 0, 0, ...   \n",
      "75266  [0, 0, 0, 0, 0, 0, 0, 0, 0, 0, 0, 0, 0, 0, 1, ...   \n",
      "76513  [0, 0, 0, 1, 0, 0, 0, 1, 0, 0, 1, 0, 1, 0, 0, ...   \n",
      "34719  [0, 0, 0, 0, 0, 0, 1, 0, 0, 0, 0, 0, 0, 1, 0, ...   \n",
      "\n",
      "                                            predictions  \\\n",
      "41651  rakṣām etām prayuñjīta jale vāatha sthale api vā   \n",
      "27556                         jala yogaḥca kartavyaḥiti   \n",
      "75266       eṣṭavyāḥśataśaḥtu anye caranti mama vājinaḥ   \n",
      "76513      evam gate api tu mayāyat śakyam bhṛgunandana   \n",
      "34719        tapaḥcacāra vipulam bhṛguḥvarṣa sahasrakam   \n",
      "\n",
      "                                        predicted_labels  \n",
      "41651  [0, 0, 0, 0, 0, 0, 0, 0, 1, 0, 0, 0, 0, 1, 0, ...  \n",
      "27556  [0, 0, 0, 1, 0, 0, 0, 0, 0, 0, 0, 0, 1, 0, 0, ...  \n",
      "75266  [0, 0, 0, 0, 0, 0, 0, 0, 0, 0, 0, 0, 0, 0, 0, ...  \n",
      "76513  [0, 0, 0, 1, 0, 0, 0, 1, 0, 0, 1, 0, 1, 0, 0, ...  \n",
      "34719  [0, 0, 0, 0, 0, 0, 0, 0, 0, 0, 0, 0, 0, 1, 0, ...  \n"
     ]
    },
    {
     "data": {
      "text/html": [
       "<div>\n",
       "<style scoped>\n",
       "    .dataframe tbody tr th:only-of-type {\n",
       "        vertical-align: middle;\n",
       "    }\n",
       "\n",
       "    .dataframe tbody tr th {\n",
       "        vertical-align: top;\n",
       "    }\n",
       "\n",
       "    .dataframe thead th {\n",
       "        text-align: right;\n",
       "    }\n",
       "</style>\n",
       "<table border=\"1\" class=\"dataframe\">\n",
       "  <thead>\n",
       "    <tr style=\"text-align: right;\">\n",
       "      <th></th>\n",
       "      <th>sentence</th>\n",
       "      <th>unsandhied</th>\n",
       "      <th>unsandhied_input_text</th>\n",
       "      <th>sandhied_input_text</th>\n",
       "      <th>target_labels</th>\n",
       "      <th>predictions</th>\n",
       "      <th>predicted_labels</th>\n",
       "    </tr>\n",
       "  </thead>\n",
       "  <tbody>\n",
       "    <tr>\n",
       "      <th>41651</th>\n",
       "      <td>rakṣāmetāṃ prayuñjīta jale vātha sthale'pi vā</td>\n",
       "      <td>rakṣām etām prayuñjīta jale vā atha sthale api vā</td>\n",
       "      <td>rakṣāmetāmprayuñjītajalevāathasthaleapivā</td>\n",
       "      <td>rakṣāmetāṃprayuñjītajalevāthasthale'pivā</td>\n",
       "      <td>[0, 0, 0, 0, 0, 0, 0, 0, 1, 0, 0, 0, 0, 1, 0, ...</td>\n",
       "      <td>rakṣām etām prayuñjīta jale vāatha sthale api vā</td>\n",
       "      <td>[0, 0, 0, 0, 0, 0, 0, 0, 1, 0, 0, 0, 0, 1, 0, ...</td>\n",
       "    </tr>\n",
       "    <tr>\n",
       "      <th>27556</th>\n",
       "      <td>jalayogaśca kartavya iti</td>\n",
       "      <td>jala yogaḥ ca kartavyaḥ iti</td>\n",
       "      <td>jalayogaḥcakartavyaḥiti</td>\n",
       "      <td>jalayogaścakartavyaiti</td>\n",
       "      <td>[0, 0, 0, 1, 0, 0, 0, 0, 0, 0, 1, 0, 1, 0, 0, ...</td>\n",
       "      <td>jala yogaḥca kartavyaḥiti</td>\n",
       "      <td>[0, 0, 0, 1, 0, 0, 0, 0, 0, 0, 0, 0, 1, 0, 0, ...</td>\n",
       "    </tr>\n",
       "    <tr>\n",
       "      <th>75266</th>\n",
       "      <td>eṣṭavyāḥ śataśastvanye caranti mama vājinaḥ</td>\n",
       "      <td>eṣṭavyāḥ śataśaḥ tu anye caranti mama vājinaḥ</td>\n",
       "      <td>eṣṭavyāḥśataśaḥtuanyecarantimamavājinaḥ</td>\n",
       "      <td>eṣṭavyāḥśataśastvanyecarantimamavājinaḥ</td>\n",
       "      <td>[0, 0, 0, 0, 0, 0, 0, 0, 0, 0, 0, 0, 0, 0, 1, ...</td>\n",
       "      <td>eṣṭavyāḥśataśaḥtu anye caranti mama vājinaḥ</td>\n",
       "      <td>[0, 0, 0, 0, 0, 0, 0, 0, 0, 0, 0, 0, 0, 0, 0, ...</td>\n",
       "    </tr>\n",
       "    <tr>\n",
       "      <th>76513</th>\n",
       "      <td>evaṃ gate 'pi tu mayā yacchakyaṃ bhṛgunandana</td>\n",
       "      <td>evam gate api tu mayā yat śakyam bhṛgunandana</td>\n",
       "      <td>evamgateapitumayāyatśakyambhṛgunandana</td>\n",
       "      <td>evaṃgate'pitumayāyacchakyaṃbhṛgunandana</td>\n",
       "      <td>[0, 0, 0, 1, 0, 0, 0, 1, 0, 0, 1, 0, 1, 0, 0, ...</td>\n",
       "      <td>evam gate api tu mayāyat śakyam bhṛgunandana</td>\n",
       "      <td>[0, 0, 0, 1, 0, 0, 0, 1, 0, 0, 1, 0, 1, 0, 0, ...</td>\n",
       "    </tr>\n",
       "    <tr>\n",
       "      <th>34719</th>\n",
       "      <td>tapaścacāra vipulaṃ bhṛgurvarṣasahasrakam</td>\n",
       "      <td>tapaḥ cacāra vipulam bhṛguḥ varṣa sahasrakam</td>\n",
       "      <td>tapaḥcacāravipulambhṛguḥvarṣasahasrakam</td>\n",
       "      <td>tapaścacāravipulaṃbhṛgurvarṣasahasrakam</td>\n",
       "      <td>[0, 0, 0, 0, 0, 0, 1, 0, 0, 0, 0, 0, 0, 1, 0, ...</td>\n",
       "      <td>tapaḥcacāra vipulam bhṛguḥvarṣa sahasrakam</td>\n",
       "      <td>[0, 0, 0, 0, 0, 0, 0, 0, 0, 0, 0, 0, 0, 1, 0, ...</td>\n",
       "    </tr>\n",
       "  </tbody>\n",
       "</table>\n",
       "</div>"
      ],
      "text/plain": [
       "                                            sentence  \\\n",
       "41651  rakṣāmetāṃ prayuñjīta jale vātha sthale'pi vā   \n",
       "27556                       jalayogaśca kartavya iti   \n",
       "75266    eṣṭavyāḥ śataśastvanye caranti mama vājinaḥ   \n",
       "76513  evaṃ gate 'pi tu mayā yacchakyaṃ bhṛgunandana   \n",
       "34719      tapaścacāra vipulaṃ bhṛgurvarṣasahasrakam   \n",
       "\n",
       "                                              unsandhied  \\\n",
       "41651  rakṣām etām prayuñjīta jale vā atha sthale api vā   \n",
       "27556                        jala yogaḥ ca kartavyaḥ iti   \n",
       "75266      eṣṭavyāḥ śataśaḥ tu anye caranti mama vājinaḥ   \n",
       "76513      evam gate api tu mayā yat śakyam bhṛgunandana   \n",
       "34719       tapaḥ cacāra vipulam bhṛguḥ varṣa sahasrakam   \n",
       "\n",
       "                           unsandhied_input_text  \\\n",
       "41651  rakṣāmetāmprayuñjītajalevāathasthaleapivā   \n",
       "27556                    jalayogaḥcakartavyaḥiti   \n",
       "75266    eṣṭavyāḥśataśaḥtuanyecarantimamavājinaḥ   \n",
       "76513     evamgateapitumayāyatśakyambhṛgunandana   \n",
       "34719    tapaḥcacāravipulambhṛguḥvarṣasahasrakam   \n",
       "\n",
       "                            sandhied_input_text  \\\n",
       "41651  rakṣāmetāṃprayuñjītajalevāthasthale'pivā   \n",
       "27556                    jalayogaścakartavyaiti   \n",
       "75266   eṣṭavyāḥśataśastvanyecarantimamavājinaḥ   \n",
       "76513   evaṃgate'pitumayāyacchakyaṃbhṛgunandana   \n",
       "34719   tapaścacāravipulaṃbhṛgurvarṣasahasrakam   \n",
       "\n",
       "                                           target_labels  \\\n",
       "41651  [0, 0, 0, 0, 0, 0, 0, 0, 1, 0, 0, 0, 0, 1, 0, ...   \n",
       "27556  [0, 0, 0, 1, 0, 0, 0, 0, 0, 0, 1, 0, 1, 0, 0, ...   \n",
       "75266  [0, 0, 0, 0, 0, 0, 0, 0, 0, 0, 0, 0, 0, 0, 1, ...   \n",
       "76513  [0, 0, 0, 1, 0, 0, 0, 1, 0, 0, 1, 0, 1, 0, 0, ...   \n",
       "34719  [0, 0, 0, 0, 0, 0, 1, 0, 0, 0, 0, 0, 0, 1, 0, ...   \n",
       "\n",
       "                                            predictions  \\\n",
       "41651  rakṣām etām prayuñjīta jale vāatha sthale api vā   \n",
       "27556                         jala yogaḥca kartavyaḥiti   \n",
       "75266       eṣṭavyāḥśataśaḥtu anye caranti mama vājinaḥ   \n",
       "76513      evam gate api tu mayāyat śakyam bhṛgunandana   \n",
       "34719        tapaḥcacāra vipulam bhṛguḥvarṣa sahasrakam   \n",
       "\n",
       "                                        predicted_labels  \n",
       "41651  [0, 0, 0, 0, 0, 0, 0, 0, 1, 0, 0, 0, 0, 1, 0, ...  \n",
       "27556  [0, 0, 0, 1, 0, 0, 0, 0, 0, 0, 0, 0, 1, 0, 0, ...  \n",
       "75266  [0, 0, 0, 0, 0, 0, 0, 0, 0, 0, 0, 0, 0, 0, 0, ...  \n",
       "76513  [0, 0, 0, 1, 0, 0, 0, 1, 0, 0, 1, 0, 1, 0, 0, ...  \n",
       "34719  [0, 0, 0, 0, 0, 0, 0, 0, 0, 0, 0, 0, 0, 1, 0, ...  "
      ]
     },
     "execution_count": 13,
     "metadata": {},
     "output_type": "execute_result"
    }
   ],
   "source": [
    "# generate 10% of the dataset (100k samples)\n",
    "sighum_dataset_01 = sighum_dataset.sample(frac=0.1, random_state=42)\n",
    "# sandhied\n",
    "\n",
    "# dcs_dataset_001[\"ws_predicted\"] = dcs_dataset_001[\"input_text\"].apply(lambda x: ws.predict(x))\n",
    "sighum_dataset_01_sandhied_labeled = predict_labels(df=sighum_dataset_01, model=ws, dataset_name='sighum_dataset_01_sandhied', input_col='sandhied_input_text', target_col='sentence')\n",
    "\n",
    "sighum_dataset_01_unsandhied_labeled = predict_labels(df=sighum_dataset_01, model=ws, dataset_name='sighum_dataset_01_unsandhied', input_col='unsandhied_input_text', target_col='unsandhied')\n",
    "\n",
    "sighum_dataset_01_sandhied_labeled.head()"
   ]
  },
  {
   "cell_type": "code",
   "execution_count": 21,
   "metadata": {},
   "outputs": [
    {
     "data": {
      "text/html": [
       "<div>\n",
       "<style scoped>\n",
       "    .dataframe tbody tr th:only-of-type {\n",
       "        vertical-align: middle;\n",
       "    }\n",
       "\n",
       "    .dataframe tbody tr th {\n",
       "        vertical-align: top;\n",
       "    }\n",
       "\n",
       "    .dataframe thead th {\n",
       "        text-align: right;\n",
       "    }\n",
       "</style>\n",
       "<table border=\"1\" class=\"dataframe\">\n",
       "  <thead>\n",
       "    <tr style=\"text-align: right;\">\n",
       "      <th></th>\n",
       "      <th>sentence</th>\n",
       "      <th>unsandhied</th>\n",
       "      <th>unsandhied_input_text</th>\n",
       "      <th>sandhied_input_text</th>\n",
       "      <th>target_labels</th>\n",
       "      <th>predictions</th>\n",
       "      <th>predicted_labels</th>\n",
       "    </tr>\n",
       "  </thead>\n",
       "  <tbody>\n",
       "    <tr>\n",
       "      <th>41651</th>\n",
       "      <td>rakṣāmetāṃ prayuñjīta jale vātha sthale'pi vā</td>\n",
       "      <td>rakṣām etām prayuñjīta jale vā atha sthale api vā</td>\n",
       "      <td>rakṣāmetāmprayuñjītajalevāathasthaleapivā</td>\n",
       "      <td>rakṣāmetāṃprayuñjītajalevāthasthale'pivā</td>\n",
       "      <td>[0, 0, 0, 0, 0, 0, 0, 0, 1, 0, 0, 0, 0, 1, 0, ...</td>\n",
       "      <td>rakṣām etām prayuñjīta jale vāatha sthale api vā</td>\n",
       "      <td>[0, 0, 0, 0, 0, 0, 0, 0, 1, 0, 0, 0, 0, 1, 0, ...</td>\n",
       "    </tr>\n",
       "    <tr>\n",
       "      <th>27556</th>\n",
       "      <td>jalayogaśca kartavya iti</td>\n",
       "      <td>jala yogaḥ ca kartavyaḥ iti</td>\n",
       "      <td>jalayogaḥcakartavyaḥiti</td>\n",
       "      <td>jalayogaścakartavyaiti</td>\n",
       "      <td>[0, 0, 0, 1, 0, 0, 0, 0, 0, 0, 1, 0, 1, 0, 0, ...</td>\n",
       "      <td>jala yogaḥca kartavyaḥiti</td>\n",
       "      <td>[0, 0, 0, 1, 0, 0, 0, 0, 0, 0, 0, 0, 1, 0, 0, ...</td>\n",
       "    </tr>\n",
       "    <tr>\n",
       "      <th>75266</th>\n",
       "      <td>eṣṭavyāḥ śataśastvanye caranti mama vājinaḥ</td>\n",
       "      <td>eṣṭavyāḥ śataśaḥ tu anye caranti mama vājinaḥ</td>\n",
       "      <td>eṣṭavyāḥśataśaḥtuanyecarantimamavājinaḥ</td>\n",
       "      <td>eṣṭavyāḥśataśastvanyecarantimamavājinaḥ</td>\n",
       "      <td>[0, 0, 0, 0, 0, 0, 0, 0, 0, 0, 0, 0, 0, 0, 1, ...</td>\n",
       "      <td>eṣṭavyāḥśataśaḥtu anye caranti mama vājinaḥ</td>\n",
       "      <td>[0, 0, 0, 0, 0, 0, 0, 0, 0, 0, 0, 0, 0, 0, 0, ...</td>\n",
       "    </tr>\n",
       "    <tr>\n",
       "      <th>76513</th>\n",
       "      <td>evaṃ gate 'pi tu mayā yacchakyaṃ bhṛgunandana</td>\n",
       "      <td>evam gate api tu mayā yat śakyam bhṛgunandana</td>\n",
       "      <td>evamgateapitumayāyatśakyambhṛgunandana</td>\n",
       "      <td>evaṃgate'pitumayāyacchakyaṃbhṛgunandana</td>\n",
       "      <td>[0, 0, 0, 1, 0, 0, 0, 1, 0, 0, 1, 0, 1, 0, 0, ...</td>\n",
       "      <td>evam gate api tu mayāyat śakyam bhṛgunandana</td>\n",
       "      <td>[0, 0, 0, 1, 0, 0, 0, 1, 0, 0, 1, 0, 1, 0, 0, ...</td>\n",
       "    </tr>\n",
       "    <tr>\n",
       "      <th>34719</th>\n",
       "      <td>tapaścacāra vipulaṃ bhṛgurvarṣasahasrakam</td>\n",
       "      <td>tapaḥ cacāra vipulam bhṛguḥ varṣa sahasrakam</td>\n",
       "      <td>tapaḥcacāravipulambhṛguḥvarṣasahasrakam</td>\n",
       "      <td>tapaścacāravipulaṃbhṛgurvarṣasahasrakam</td>\n",
       "      <td>[0, 0, 0, 0, 0, 0, 1, 0, 0, 0, 0, 0, 0, 1, 0, ...</td>\n",
       "      <td>tapaḥcacāra vipulam bhṛguḥvarṣa sahasrakam</td>\n",
       "      <td>[0, 0, 0, 0, 0, 0, 0, 0, 0, 0, 0, 0, 0, 1, 0, ...</td>\n",
       "    </tr>\n",
       "  </tbody>\n",
       "</table>\n",
       "</div>"
      ],
      "text/plain": [
       "                                            sentence  \\\n",
       "41651  rakṣāmetāṃ prayuñjīta jale vātha sthale'pi vā   \n",
       "27556                       jalayogaśca kartavya iti   \n",
       "75266    eṣṭavyāḥ śataśastvanye caranti mama vājinaḥ   \n",
       "76513  evaṃ gate 'pi tu mayā yacchakyaṃ bhṛgunandana   \n",
       "34719      tapaścacāra vipulaṃ bhṛgurvarṣasahasrakam   \n",
       "\n",
       "                                              unsandhied  \\\n",
       "41651  rakṣām etām prayuñjīta jale vā atha sthale api vā   \n",
       "27556                        jala yogaḥ ca kartavyaḥ iti   \n",
       "75266      eṣṭavyāḥ śataśaḥ tu anye caranti mama vājinaḥ   \n",
       "76513      evam gate api tu mayā yat śakyam bhṛgunandana   \n",
       "34719       tapaḥ cacāra vipulam bhṛguḥ varṣa sahasrakam   \n",
       "\n",
       "                           unsandhied_input_text  \\\n",
       "41651  rakṣāmetāmprayuñjītajalevāathasthaleapivā   \n",
       "27556                    jalayogaḥcakartavyaḥiti   \n",
       "75266    eṣṭavyāḥśataśaḥtuanyecarantimamavājinaḥ   \n",
       "76513     evamgateapitumayāyatśakyambhṛgunandana   \n",
       "34719    tapaḥcacāravipulambhṛguḥvarṣasahasrakam   \n",
       "\n",
       "                            sandhied_input_text  \\\n",
       "41651  rakṣāmetāṃprayuñjītajalevāthasthale'pivā   \n",
       "27556                    jalayogaścakartavyaiti   \n",
       "75266   eṣṭavyāḥśataśastvanyecarantimamavājinaḥ   \n",
       "76513   evaṃgate'pitumayāyacchakyaṃbhṛgunandana   \n",
       "34719   tapaścacāravipulaṃbhṛgurvarṣasahasrakam   \n",
       "\n",
       "                                           target_labels  \\\n",
       "41651  [0, 0, 0, 0, 0, 0, 0, 0, 1, 0, 0, 0, 0, 1, 0, ...   \n",
       "27556  [0, 0, 0, 1, 0, 0, 0, 0, 0, 0, 1, 0, 1, 0, 0, ...   \n",
       "75266  [0, 0, 0, 0, 0, 0, 0, 0, 0, 0, 0, 0, 0, 0, 1, ...   \n",
       "76513  [0, 0, 0, 1, 0, 0, 0, 1, 0, 0, 1, 0, 1, 0, 0, ...   \n",
       "34719  [0, 0, 0, 0, 0, 0, 1, 0, 0, 0, 0, 0, 0, 1, 0, ...   \n",
       "\n",
       "                                            predictions  \\\n",
       "41651  rakṣām etām prayuñjīta jale vāatha sthale api vā   \n",
       "27556                         jala yogaḥca kartavyaḥiti   \n",
       "75266       eṣṭavyāḥśataśaḥtu anye caranti mama vājinaḥ   \n",
       "76513      evam gate api tu mayāyat śakyam bhṛgunandana   \n",
       "34719        tapaḥcacāra vipulam bhṛguḥvarṣa sahasrakam   \n",
       "\n",
       "                                        predicted_labels  \n",
       "41651  [0, 0, 0, 0, 0, 0, 0, 0, 1, 0, 0, 0, 0, 1, 0, ...  \n",
       "27556  [0, 0, 0, 1, 0, 0, 0, 0, 0, 0, 0, 0, 1, 0, 0, ...  \n",
       "75266  [0, 0, 0, 0, 0, 0, 0, 0, 0, 0, 0, 0, 0, 0, 0, ...  \n",
       "76513  [0, 0, 0, 1, 0, 0, 0, 1, 0, 0, 1, 0, 1, 0, 0, ...  \n",
       "34719  [0, 0, 0, 0, 0, 0, 0, 0, 0, 0, 0, 0, 0, 1, 0, ...  "
      ]
     },
     "execution_count": 21,
     "metadata": {},
     "output_type": "execute_result"
    }
   ],
   "source": [
    "sighum_dataset_01_unsandhied_labeled.head()"
   ]
  },
  {
   "cell_type": "code",
   "execution_count": 22,
   "metadata": {},
   "outputs": [
    {
     "data": {
      "text/html": [
       "<div>\n",
       "<style scoped>\n",
       "    .dataframe tbody tr th:only-of-type {\n",
       "        vertical-align: middle;\n",
       "    }\n",
       "\n",
       "    .dataframe tbody tr th {\n",
       "        vertical-align: top;\n",
       "    }\n",
       "\n",
       "    .dataframe thead th {\n",
       "        text-align: right;\n",
       "    }\n",
       "</style>\n",
       "<table border=\"1\" class=\"dataframe\">\n",
       "  <thead>\n",
       "    <tr style=\"text-align: right;\">\n",
       "      <th></th>\n",
       "      <th>sentence</th>\n",
       "      <th>unsandhied</th>\n",
       "      <th>unsandhied_input_text</th>\n",
       "      <th>sandhied_input_text</th>\n",
       "      <th>target_labels</th>\n",
       "      <th>predictions</th>\n",
       "      <th>predicted_labels</th>\n",
       "    </tr>\n",
       "  </thead>\n",
       "  <tbody>\n",
       "    <tr>\n",
       "      <th>41651</th>\n",
       "      <td>rakṣāmetāṃ prayuñjīta jale vātha sthale'pi vā</td>\n",
       "      <td>rakṣām etām prayuñjīta jale vā atha sthale api vā</td>\n",
       "      <td>rakṣāmetāmprayuñjītajalevāathasthaleapivā</td>\n",
       "      <td>rakṣāmetāṃprayuñjītajalevāthasthale'pivā</td>\n",
       "      <td>[0, 0, 0, 0, 0, 0, 0, 0, 1, 0, 0, 0, 0, 1, 0, ...</td>\n",
       "      <td>rakṣām etām prayuñjīta jale vāatha sthale api vā</td>\n",
       "      <td>[0, 0, 0, 0, 0, 0, 0, 0, 1, 0, 0, 0, 0, 1, 0, ...</td>\n",
       "    </tr>\n",
       "    <tr>\n",
       "      <th>27556</th>\n",
       "      <td>jalayogaśca kartavya iti</td>\n",
       "      <td>jala yogaḥ ca kartavyaḥ iti</td>\n",
       "      <td>jalayogaḥcakartavyaḥiti</td>\n",
       "      <td>jalayogaścakartavyaiti</td>\n",
       "      <td>[0, 0, 0, 1, 0, 0, 0, 0, 0, 0, 1, 0, 1, 0, 0, ...</td>\n",
       "      <td>jala yogaḥca kartavyaḥiti</td>\n",
       "      <td>[0, 0, 0, 1, 0, 0, 0, 0, 0, 0, 0, 0, 1, 0, 0, ...</td>\n",
       "    </tr>\n",
       "    <tr>\n",
       "      <th>75266</th>\n",
       "      <td>eṣṭavyāḥ śataśastvanye caranti mama vājinaḥ</td>\n",
       "      <td>eṣṭavyāḥ śataśaḥ tu anye caranti mama vājinaḥ</td>\n",
       "      <td>eṣṭavyāḥśataśaḥtuanyecarantimamavājinaḥ</td>\n",
       "      <td>eṣṭavyāḥśataśastvanyecarantimamavājinaḥ</td>\n",
       "      <td>[0, 0, 0, 0, 0, 0, 0, 0, 0, 0, 0, 0, 0, 0, 1, ...</td>\n",
       "      <td>eṣṭavyāḥśataśaḥtu anye caranti mama vājinaḥ</td>\n",
       "      <td>[0, 0, 0, 0, 0, 0, 0, 0, 0, 0, 0, 0, 0, 0, 0, ...</td>\n",
       "    </tr>\n",
       "    <tr>\n",
       "      <th>76513</th>\n",
       "      <td>evaṃ gate 'pi tu mayā yacchakyaṃ bhṛgunandana</td>\n",
       "      <td>evam gate api tu mayā yat śakyam bhṛgunandana</td>\n",
       "      <td>evamgateapitumayāyatśakyambhṛgunandana</td>\n",
       "      <td>evaṃgate'pitumayāyacchakyaṃbhṛgunandana</td>\n",
       "      <td>[0, 0, 0, 1, 0, 0, 0, 1, 0, 0, 1, 0, 1, 0, 0, ...</td>\n",
       "      <td>evam gate api tu mayāyat śakyam bhṛgunandana</td>\n",
       "      <td>[0, 0, 0, 1, 0, 0, 0, 1, 0, 0, 1, 0, 1, 0, 0, ...</td>\n",
       "    </tr>\n",
       "    <tr>\n",
       "      <th>34719</th>\n",
       "      <td>tapaścacāra vipulaṃ bhṛgurvarṣasahasrakam</td>\n",
       "      <td>tapaḥ cacāra vipulam bhṛguḥ varṣa sahasrakam</td>\n",
       "      <td>tapaḥcacāravipulambhṛguḥvarṣasahasrakam</td>\n",
       "      <td>tapaścacāravipulaṃbhṛgurvarṣasahasrakam</td>\n",
       "      <td>[0, 0, 0, 0, 0, 0, 1, 0, 0, 0, 0, 0, 0, 1, 0, ...</td>\n",
       "      <td>tapaḥcacāra vipulam bhṛguḥvarṣa sahasrakam</td>\n",
       "      <td>[0, 0, 0, 0, 0, 0, 0, 0, 0, 0, 0, 0, 0, 1, 0, ...</td>\n",
       "    </tr>\n",
       "  </tbody>\n",
       "</table>\n",
       "</div>"
      ],
      "text/plain": [
       "                                            sentence  \\\n",
       "41651  rakṣāmetāṃ prayuñjīta jale vātha sthale'pi vā   \n",
       "27556                       jalayogaśca kartavya iti   \n",
       "75266    eṣṭavyāḥ śataśastvanye caranti mama vājinaḥ   \n",
       "76513  evaṃ gate 'pi tu mayā yacchakyaṃ bhṛgunandana   \n",
       "34719      tapaścacāra vipulaṃ bhṛgurvarṣasahasrakam   \n",
       "\n",
       "                                              unsandhied  \\\n",
       "41651  rakṣām etām prayuñjīta jale vā atha sthale api vā   \n",
       "27556                        jala yogaḥ ca kartavyaḥ iti   \n",
       "75266      eṣṭavyāḥ śataśaḥ tu anye caranti mama vājinaḥ   \n",
       "76513      evam gate api tu mayā yat śakyam bhṛgunandana   \n",
       "34719       tapaḥ cacāra vipulam bhṛguḥ varṣa sahasrakam   \n",
       "\n",
       "                           unsandhied_input_text  \\\n",
       "41651  rakṣāmetāmprayuñjītajalevāathasthaleapivā   \n",
       "27556                    jalayogaḥcakartavyaḥiti   \n",
       "75266    eṣṭavyāḥśataśaḥtuanyecarantimamavājinaḥ   \n",
       "76513     evamgateapitumayāyatśakyambhṛgunandana   \n",
       "34719    tapaḥcacāravipulambhṛguḥvarṣasahasrakam   \n",
       "\n",
       "                            sandhied_input_text  \\\n",
       "41651  rakṣāmetāṃprayuñjītajalevāthasthale'pivā   \n",
       "27556                    jalayogaścakartavyaiti   \n",
       "75266   eṣṭavyāḥśataśastvanyecarantimamavājinaḥ   \n",
       "76513   evaṃgate'pitumayāyacchakyaṃbhṛgunandana   \n",
       "34719   tapaścacāravipulaṃbhṛgurvarṣasahasrakam   \n",
       "\n",
       "                                           target_labels  \\\n",
       "41651  [0, 0, 0, 0, 0, 0, 0, 0, 1, 0, 0, 0, 0, 1, 0, ...   \n",
       "27556  [0, 0, 0, 1, 0, 0, 0, 0, 0, 0, 1, 0, 1, 0, 0, ...   \n",
       "75266  [0, 0, 0, 0, 0, 0, 0, 0, 0, 0, 0, 0, 0, 0, 1, ...   \n",
       "76513  [0, 0, 0, 1, 0, 0, 0, 1, 0, 0, 1, 0, 1, 0, 0, ...   \n",
       "34719  [0, 0, 0, 0, 0, 0, 1, 0, 0, 0, 0, 0, 0, 1, 0, ...   \n",
       "\n",
       "                                            predictions  \\\n",
       "41651  rakṣām etām prayuñjīta jale vāatha sthale api vā   \n",
       "27556                         jala yogaḥca kartavyaḥiti   \n",
       "75266       eṣṭavyāḥśataśaḥtu anye caranti mama vājinaḥ   \n",
       "76513      evam gate api tu mayāyat śakyam bhṛgunandana   \n",
       "34719        tapaḥcacāra vipulam bhṛguḥvarṣa sahasrakam   \n",
       "\n",
       "                                        predicted_labels  \n",
       "41651  [0, 0, 0, 0, 0, 0, 0, 0, 1, 0, 0, 0, 0, 1, 0, ...  \n",
       "27556  [0, 0, 0, 1, 0, 0, 0, 0, 0, 0, 0, 0, 1, 0, 0, ...  \n",
       "75266  [0, 0, 0, 0, 0, 0, 0, 0, 0, 0, 0, 0, 0, 0, 0, ...  \n",
       "76513  [0, 0, 0, 1, 0, 0, 0, 1, 0, 0, 1, 0, 1, 0, 0, ...  \n",
       "34719  [0, 0, 0, 0, 0, 0, 0, 0, 0, 0, 0, 0, 0, 1, 0, ...  "
      ]
     },
     "execution_count": 22,
     "metadata": {},
     "output_type": "execute_result"
    }
   ],
   "source": [
    "sighum_dataset_01_sandhied_labeled.head()"
   ]
  },
  {
   "cell_type": "code",
   "execution_count": 26,
   "metadata": {},
   "outputs": [
    {
     "data": {
      "text/html": [
       "<div>\n",
       "<style scoped>\n",
       "    .dataframe tbody tr th:only-of-type {\n",
       "        vertical-align: middle;\n",
       "    }\n",
       "\n",
       "    .dataframe tbody tr th {\n",
       "        vertical-align: top;\n",
       "    }\n",
       "\n",
       "    .dataframe thead th {\n",
       "        text-align: right;\n",
       "    }\n",
       "</style>\n",
       "<table border=\"1\" class=\"dataframe\">\n",
       "  <thead>\n",
       "    <tr style=\"text-align: right;\">\n",
       "      <th></th>\n",
       "      <th>sentence</th>\n",
       "      <th>unsandhied</th>\n",
       "      <th>unsandhied_input_text</th>\n",
       "      <th>sandhied_input_text</th>\n",
       "      <th>target_labels</th>\n",
       "      <th>predictions</th>\n",
       "      <th>predicted_labels</th>\n",
       "    </tr>\n",
       "  </thead>\n",
       "  <tbody>\n",
       "    <tr>\n",
       "      <th>0</th>\n",
       "      <td>kṛṣṇa uvāca</td>\n",
       "      <td>kṛṣṇaḥ uvāca</td>\n",
       "      <td>kṛṣṇaḥuvāca</td>\n",
       "      <td>kṛṣṇauvāca</td>\n",
       "      <td>[0, 0, 0, 0, 0, 0, 0, 0, 0, 0, 1, 0, 0, 0, 0, ...</td>\n",
       "      <td>kṛṣṇa uvāca</td>\n",
       "      <td>[0, 0, 0, 0, 0, 0, 0, 0, 0, 0, 1, 0, 0, 0, 0, ...</td>\n",
       "    </tr>\n",
       "    <tr>\n",
       "      <th>1</th>\n",
       "      <td>śālvasya nagaraṃ saubhaṃ gato 'haṃ bharatarṣabha</td>\n",
       "      <td>śālvasya nagaram saubham gataḥ aham bharata ṛṣ...</td>\n",
       "      <td>śālvasyanagaramsaubhamgataḥahambharataṛṣabha</td>\n",
       "      <td>śālvasyanagaraṃsaubhaṃgato'haṃbharatarṣabha</td>\n",
       "      <td>[0, 0, 0, 0, 0, 0, 0, 0, 0, 1, 0, 0, 0, 0, 0, ...</td>\n",
       "      <td>śālvasya nagaraṃsaubhaṃgato 'haṃbharatarṣabha</td>\n",
       "      <td>[0, 0, 0, 0, 0, 0, 0, 0, 0, 1, 0, 0, 0, 0, 0, ...</td>\n",
       "    </tr>\n",
       "    <tr>\n",
       "      <th>2</th>\n",
       "      <td>śrutvā taṃ nihataṃ śālvas tīvraroṣasamanvitaḥ</td>\n",
       "      <td>śrutvā tam nihatam śālvaḥ tīvra roṣa samanvitaḥ</td>\n",
       "      <td>śrutvātamnihatamśālvaḥtīvraroṣasamanvitaḥ</td>\n",
       "      <td>śrutvātaṃnihataṃśālvastīvraroṣasamanvitaḥ</td>\n",
       "      <td>[0, 0, 0, 0, 0, 0, 0, 1, 0, 0, 0, 0, 1, 0, 0, ...</td>\n",
       "      <td>śrutvātaṃnihataṃśālvas tīvra roṣa samanvitaḥ</td>\n",
       "      <td>[0, 0, 0, 0, 0, 0, 0, 0, 0, 0, 0, 0, 0, 0, 0, ...</td>\n",
       "    </tr>\n",
       "    <tr>\n",
       "      <th>3</th>\n",
       "      <td>kumbhake kevale siddhe kiṃ na sidhyati bhūtale</td>\n",
       "      <td>kumbhake kevale siddhe kim na sidhyati bhū tale</td>\n",
       "      <td>kumbhakekevalesiddhekimnasidhyatibhūtale</td>\n",
       "      <td>kumbhakekevalesiddhekiṃnasidhyatibhūtale</td>\n",
       "      <td>[0, 0, 0, 0, 0, 0, 0, 1, 0, 0, 0, 0, 0, 1, 0, ...</td>\n",
       "      <td>kumbhake kevale siddhe kiṃna sidhyati bhūtale</td>\n",
       "      <td>[0, 0, 0, 0, 0, 0, 0, 1, 0, 0, 0, 0, 0, 1, 0, ...</td>\n",
       "    </tr>\n",
       "    <tr>\n",
       "      <th>4</th>\n",
       "      <td>taṃ hatvā vinivartiṣye kaṃsakeśiniṣūdanam</td>\n",
       "      <td>tam hatvā vinivartiṣye kaṃsa keśi niṣūdanam</td>\n",
       "      <td>tamhatvāvinivartiṣyekaṃsakeśiniṣūdanam</td>\n",
       "      <td>taṃhatvāvinivartiṣyekaṃsakeśiniṣūdanam</td>\n",
       "      <td>[0, 0, 0, 0, 1, 0, 0, 0, 0, 0, 1, 0, 0, 0, 0, ...</td>\n",
       "      <td>taṃhatvāvinivartiṣye kaṃsa keśi niṣūdanam</td>\n",
       "      <td>[0, 0, 0, 0, 0, 0, 0, 0, 0, 0, 0, 0, 0, 0, 0, ...</td>\n",
       "    </tr>\n",
       "  </tbody>\n",
       "</table>\n",
       "</div>"
      ],
      "text/plain": [
       "                                           sentence  \\\n",
       "0                                       kṛṣṇa uvāca   \n",
       "1  śālvasya nagaraṃ saubhaṃ gato 'haṃ bharatarṣabha   \n",
       "2     śrutvā taṃ nihataṃ śālvas tīvraroṣasamanvitaḥ   \n",
       "3    kumbhake kevale siddhe kiṃ na sidhyati bhūtale   \n",
       "4         taṃ hatvā vinivartiṣye kaṃsakeśiniṣūdanam   \n",
       "\n",
       "                                          unsandhied  \\\n",
       "0                                       kṛṣṇaḥ uvāca   \n",
       "1  śālvasya nagaram saubham gataḥ aham bharata ṛṣ...   \n",
       "2    śrutvā tam nihatam śālvaḥ tīvra roṣa samanvitaḥ   \n",
       "3    kumbhake kevale siddhe kim na sidhyati bhū tale   \n",
       "4        tam hatvā vinivartiṣye kaṃsa keśi niṣūdanam   \n",
       "\n",
       "                          unsandhied_input_text  \\\n",
       "0                                   kṛṣṇaḥuvāca   \n",
       "1  śālvasyanagaramsaubhamgataḥahambharataṛṣabha   \n",
       "2     śrutvātamnihatamśālvaḥtīvraroṣasamanvitaḥ   \n",
       "3      kumbhakekevalesiddhekimnasidhyatibhūtale   \n",
       "4        tamhatvāvinivartiṣyekaṃsakeśiniṣūdanam   \n",
       "\n",
       "                           sandhied_input_text  \\\n",
       "0                                   kṛṣṇauvāca   \n",
       "1  śālvasyanagaraṃsaubhaṃgato'haṃbharatarṣabha   \n",
       "2    śrutvātaṃnihataṃśālvastīvraroṣasamanvitaḥ   \n",
       "3     kumbhakekevalesiddhekiṃnasidhyatibhūtale   \n",
       "4       taṃhatvāvinivartiṣyekaṃsakeśiniṣūdanam   \n",
       "\n",
       "                                       target_labels  \\\n",
       "0  [0, 0, 0, 0, 0, 0, 0, 0, 0, 0, 1, 0, 0, 0, 0, ...   \n",
       "1  [0, 0, 0, 0, 0, 0, 0, 0, 0, 1, 0, 0, 0, 0, 0, ...   \n",
       "2  [0, 0, 0, 0, 0, 0, 0, 1, 0, 0, 0, 0, 1, 0, 0, ...   \n",
       "3  [0, 0, 0, 0, 0, 0, 0, 1, 0, 0, 0, 0, 0, 1, 0, ...   \n",
       "4  [0, 0, 0, 0, 1, 0, 0, 0, 0, 0, 1, 0, 0, 0, 0, ...   \n",
       "\n",
       "                                     predictions  \\\n",
       "0                                    kṛṣṇa uvāca   \n",
       "1  śālvasya nagaraṃsaubhaṃgato 'haṃbharatarṣabha   \n",
       "2   śrutvātaṃnihataṃśālvas tīvra roṣa samanvitaḥ   \n",
       "3  kumbhake kevale siddhe kiṃna sidhyati bhūtale   \n",
       "4      taṃhatvāvinivartiṣye kaṃsa keśi niṣūdanam   \n",
       "\n",
       "                                    predicted_labels  \n",
       "0  [0, 0, 0, 0, 0, 0, 0, 0, 0, 0, 1, 0, 0, 0, 0, ...  \n",
       "1  [0, 0, 0, 0, 0, 0, 0, 0, 0, 1, 0, 0, 0, 0, 0, ...  \n",
       "2  [0, 0, 0, 0, 0, 0, 0, 0, 0, 0, 0, 0, 0, 0, 0, ...  \n",
       "3  [0, 0, 0, 0, 0, 0, 0, 1, 0, 0, 0, 0, 0, 1, 0, ...  \n",
       "4  [0, 0, 0, 0, 0, 0, 0, 0, 0, 0, 0, 0, 0, 0, 0, ...  "
      ]
     },
     "execution_count": 26,
     "metadata": {},
     "output_type": "execute_result"
    }
   ],
   "source": [
    "sighum_dataset_sandhied_labeled.head()"
   ]
  },
  {
   "cell_type": "markdown",
   "metadata": {},
   "source": [
    "##### Evaluate"
   ]
  },
  {
   "cell_type": "code",
   "execution_count": 20,
   "metadata": {},
   "outputs": [
    {
     "name": "stdout",
     "output_type": "stream",
     "text": [
      "Sanity check passed: All predictions and labels have matching lengths.\n",
      "Sandhied word segmentation: {'Precision': array([96.51930285, 97.23332761]), 'Recall': array([99.73101228, 72.44038374]), 'F1 Score': array([98.09887715, 83.02546704]), 'Perfect Match (PM)': 22.294523976374013}\n",
      "Sanity check passed: All predictions and labels have matching lengths.\n",
      "Unsandhied word segmentation: {'Precision': array([96.51930285, 97.23332761]), 'Recall': array([99.73101228, 72.44038374]), 'F1 Score': array([98.09887715, 83.02546704]), 'Perfect Match (PM)': 22.294523976374013}\n"
     ]
    }
   ],
   "source": [
    "# 10% of the dataset\n",
    "\n",
    "print(f'Sandhied word segmentation: {compute_sws_metrics(df=sighum_dataset_01_sandhied_labeled, target_col=\"target_labels\")}')\n",
    "print(f'Unsandhied word segmentation: {compute_sws_metrics(df=sighum_dataset_01_unsandhied_labeled, target_col=\"target_labels\")}')"
   ]
  },
  {
   "cell_type": "code",
   "execution_count": 27,
   "metadata": {},
   "outputs": [
    {
     "name": "stdout",
     "output_type": "stream",
     "text": [
      "Sanity check passed: All predictions and labels have matching lengths.\n"
     ]
    }
   ],
   "source": [
    "# Full dataset\n",
    "swsmetrics_sighum_dataset_sandhied_labeled = compute_sws_metrics(df=sighum_dataset_sandhied_labeled, target_col=\"target_labels\")\n",
    "\n"
   ]
  },
  {
   "cell_type": "code",
   "execution_count": 30,
   "metadata": {},
   "outputs": [
    {
     "name": "stdout",
     "output_type": "stream",
     "text": [
      "Precision: 66.5307877638299\n",
      "Recall: 59.764944940389576\n",
      "F1 Score: 62.96663841933901\n"
     ]
    }
   ],
   "source": [
    "#  Full dataset metrics\n",
    "for key, value in swsmetrics_sighum_dataset_sandhied_labeled.items():\n",
    "    if key != 'Perfect Match (PM)': # PM is a list of tuples\n",
    "        print(f\"{key}: {value[1]}\")\n",
    "\n",
    "\n"
   ]
  },
  {
   "cell_type": "markdown",
   "metadata": {},
   "source": [
    "### Vanilla byt5"
   ]
  },
  {
   "cell_type": "code",
   "execution_count": 6,
   "metadata": {},
   "outputs": [
    {
     "name": "stderr",
     "output_type": "stream",
     "text": [
      "Some weights of T5ForTokenClassification were not initialized from the model checkpoint at google/byt5-small and are newly initialized: ['classifier.bias', 'classifier.weight']\n",
      "You should probably TRAIN this model on a down-stream task to be able to use it for predictions and inference.\n"
     ]
    },
    {
     "name": "stdout",
     "output_type": "stream",
     "text": [
      "device:cuda:0\n"
     ]
    }
   ],
   "source": [
    "# byt5 token classifier with no fine-tuning for the classification task\n",
    "byt5_ws = WordSegmentation(model='byt5', device=\"cuda:0\")"
   ]
  },
  {
   "cell_type": "markdown",
   "metadata": {},
   "source": [
    "#### DCS dataset"
   ]
  },
  {
   "cell_type": "markdown",
   "metadata": {},
   "source": [
    "##### predict"
   ]
  },
  {
   "cell_type": "code",
   "execution_count": 7,
   "metadata": {},
   "outputs": [
    {
     "data": {
      "text/html": [
       "<div>\n",
       "<style scoped>\n",
       "    .dataframe tbody tr th:only-of-type {\n",
       "        vertical-align: middle;\n",
       "    }\n",
       "\n",
       "    .dataframe tbody tr th {\n",
       "        vertical-align: top;\n",
       "    }\n",
       "\n",
       "    .dataframe thead th {\n",
       "        text-align: right;\n",
       "    }\n",
       "</style>\n",
       "<table border=\"1\" class=\"dataframe\">\n",
       "  <thead>\n",
       "    <tr style=\"text-align: right;\">\n",
       "      <th></th>\n",
       "      <th>input_text</th>\n",
       "      <th>target_text</th>\n",
       "    </tr>\n",
       "  </thead>\n",
       "  <tbody>\n",
       "    <tr>\n",
       "      <th>1334243</th>\n",
       "      <td>viḍaṅgānāṃkaṣāyeṇatraiphalenatathāevaca</td>\n",
       "      <td>viḍaṅgānāṃ kaṣāyeṇa traiphalena tathā eva ca</td>\n",
       "    </tr>\n",
       "    <tr>\n",
       "      <th>331095</th>\n",
       "      <td>yathākathaṃcitṣaṣṭyāūnāmtriśatīṃmāsenaaśnīyāts...</td>\n",
       "      <td>yathā kathaṃcit ṣaṣṭyā ūnām triśatīṃ māsena aś...</td>\n",
       "    </tr>\n",
       "    <tr>\n",
       "      <th>218327</th>\n",
       "      <td>ājīvobhikṣuṇācaevapareṣuāyattavṛttinā</td>\n",
       "      <td>ājīvo bhikṣuṇā ca eva pareṣu āyatta vṛttinā</td>\n",
       "    </tr>\n",
       "    <tr>\n",
       "      <th>776192</th>\n",
       "      <td>napañcabhirdaśabhirvaṣṭyārabhaṃnaasunvatāsacat...</td>\n",
       "      <td>na pañcabhir daśabhir vaṣṭy ārabhaṃ na a sunva...</td>\n",
       "    </tr>\n",
       "    <tr>\n",
       "      <th>1001365</th>\n",
       "      <td>tatṣaṭtriṃśataṃsahasrāṇyapaśyadātmano'gnīnarkā...</td>\n",
       "      <td>tat ṣaṭtriṃśataṃ sahasrāṇy apaśyad ātmano 'gnī...</td>\n",
       "    </tr>\n",
       "  </tbody>\n",
       "</table>\n",
       "</div>"
      ],
      "text/plain": [
       "                                                input_text  \\\n",
       "1334243            viḍaṅgānāṃkaṣāyeṇatraiphalenatathāevaca   \n",
       "331095   yathākathaṃcitṣaṣṭyāūnāmtriśatīṃmāsenaaśnīyāts...   \n",
       "218327               ājīvobhikṣuṇācaevapareṣuāyattavṛttinā   \n",
       "776192   napañcabhirdaśabhirvaṣṭyārabhaṃnaasunvatāsacat...   \n",
       "1001365  tatṣaṭtriṃśataṃsahasrāṇyapaśyadātmano'gnīnarkā...   \n",
       "\n",
       "                                               target_text  \n",
       "1334243       viḍaṅgānāṃ kaṣāyeṇa traiphalena tathā eva ca  \n",
       "331095   yathā kathaṃcit ṣaṣṭyā ūnām triśatīṃ māsena aś...  \n",
       "218327         ājīvo bhikṣuṇā ca eva pareṣu āyatta vṛttinā  \n",
       "776192   na pañcabhir daśabhir vaṣṭy ārabhaṃ na a sunva...  \n",
       "1001365  tat ṣaṭtriṃśataṃ sahasrāṇy apaśyad ātmano 'gnī...  "
      ]
     },
     "execution_count": 7,
     "metadata": {},
     "output_type": "execute_result"
    }
   ],
   "source": [
    "# randomly generate 1 precetage of the dataset (out of 1.5M samples)\n",
    "dcs_dataset_001 = dcs_dataset.sample(frac=0.01, random_state=42)\n",
    "# dcs_dataset_001[\"ws_predicted\"] = dcs_dataset_001[\"input_text\"].apply(lambda x: ws.predict(x))\n",
    "dcs_dataset_001. head()"
   ]
  },
  {
   "cell_type": "code",
   "execution_count": 8,
   "metadata": {},
   "outputs": [
    {
     "name": "stdout",
     "output_type": "stream",
     "text": [
      "DataFrame saved successfully to data/DCS_dataset_01_byt5_with_predictions_labels.csv\n"
     ]
    }
   ],
   "source": [
    "# dcs_dataset_001[\"byt5_predicted\"] = dcs_dataset_001[\"input_text\"].apply(lambda x: byt5_ws.predict(x))\n",
    "dcs_dataset_001_labeled = predict_labels(df=dcs_dataset_001, model=byt5_ws, dataset_name='DCS_dataset_01_byt5', input_col='input_text', target_col='target_text')"
   ]
  },
  {
   "cell_type": "markdown",
   "metadata": {},
   "source": [
    "##### Evaluate"
   ]
  },
  {
   "cell_type": "code",
   "execution_count": 10,
   "metadata": {},
   "outputs": [
    {
     "name": "stdout",
     "output_type": "stream",
     "text": [
      "Sanity check passed: All predictions and labels have matching lengths.\n",
      "Precision: 15.134711590621421\n",
      "Recall: 18.071062858552832\n",
      "F1 Score: 16.47305801699133\n"
     ]
    }
   ],
   "source": [
    "# Note that this is not the eval set but the full dataset\n",
    "byt5metrics_DCS_dataset_labeled = compute_sws_metrics(df=dcs_dataset_001_labeled, target_col=\"target_labels\")\n",
    "# the values are lists. print the 2nd elemnt in each lust as the value of the key\n",
    "for key, value in byt5metrics_DCS_dataset_labeled.items():\n",
    "    if key != 'Perfect Match (PM)': # PM is a list of tuples\n",
    "        print(f\"{key}: {value[1]}\")"
   ]
  },
  {
   "cell_type": "markdown",
   "metadata": {},
   "source": [
    "#### Sighum dataset"
   ]
  },
  {
   "cell_type": "code",
   "execution_count": 11,
   "metadata": {},
   "outputs": [
    {
     "name": "stdout",
     "output_type": "stream",
     "text": [
      "DataFrame saved successfully to data/sighum_datase_sandhied_with_predictions_labels.csv\n"
     ]
    }
   ],
   "source": [
    "sighum_dataset_byt5_sandhied_labeled = predict_labels(df=sighum_dataset, model=byt5_ws, dataset_name='sighum_datase_sandhied', input_col='sandhied_input_text', target_col='sentence')"
   ]
  },
  {
   "cell_type": "markdown",
   "metadata": {},
   "source": [
    "##### Evaluate"
   ]
  },
  {
   "cell_type": "code",
   "execution_count": 12,
   "metadata": {},
   "outputs": [
    {
     "name": "stdout",
     "output_type": "stream",
     "text": [
      "Sanity check passed: All predictions and labels have matching lengths.\n",
      "Precision: 10.079609793831047\n",
      "Recall: 17.376188636712403\n",
      "F1 Score: 12.758339671318408\n"
     ]
    }
   ],
   "source": [
    "byt5metrics_sighum_dataset_sandhied_labeled = compute_sws_metrics(df=sighum_dataset_byt5_sandhied_labeled, target_col=\"target_labels\")\n",
    "\n",
    "\n",
    "# the values are lists. print the 2nd elemnt in each lust as the value of the key\n",
    "for key, value in byt5metrics_sighum_dataset_sandhied_labeled.items():\n",
    "    if key != 'Perfect Match (PM)': # PM is a list of tuples\n",
    "        print(f\"{key}: {value[1]}\")\n",
    "\n",
    "\n"
   ]
  },
  {
   "cell_type": "code",
   "execution_count": null,
   "metadata": {},
   "outputs": [],
   "source": []
  }
 ],
 "metadata": {
  "kernelspec": {
   "display_name": "newenv",
   "language": "python",
   "name": "python3"
  },
  "language_info": {
   "codemirror_mode": {
    "name": "ipython",
    "version": 3
   },
   "file_extension": ".py",
   "mimetype": "text/x-python",
   "name": "python",
   "nbconvert_exporter": "python",
   "pygments_lexer": "ipython3",
   "version": "3.8.10"
  }
 },
 "nbformat": 4,
 "nbformat_minor": 2
}
