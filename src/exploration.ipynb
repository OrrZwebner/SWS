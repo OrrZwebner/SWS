{
 "cells": [
  {
   "cell_type": "code",
   "execution_count": 1,
   "metadata": {},
   "outputs": [
    {
     "data": {
      "text/plain": [
       "'/home/orrz/projects/NLP/Final_Project'"
      ]
     },
     "execution_count": 1,
     "metadata": {},
     "output_type": "execute_result"
    }
   ],
   "source": [
    "import os\n",
    "# change the current working directory to the parent directory\n",
    "os.chdir(\"..\")\n",
    "os.getcwd()\n",
    "import pandas as pd"
   ]
  },
  {
   "cell_type": "markdown",
   "metadata": {},
   "source": [
    "### Create csv file of sighum data"
   ]
  },
  {
   "cell_type": "code",
   "execution_count": 4,
   "metadata": {},
   "outputs": [
    {
     "name": "stderr",
     "output_type": "stream",
     "text": [
      "/home/orrz/projects/VAE/newenv/lib/python3.8/site-packages/tqdm/auto.py:21: TqdmWarning: IProgress not found. Please update jupyter and ipywidgets. See https://ipywidgets.readthedocs.io/en/stable/user_install.html\n",
      "  from .autonotebook import tqdm as notebook_tqdm\n"
     ]
    }
   ],
   "source": [
    "# create a sighum dataset\n",
    "\n",
    "splits = {'train': 'data/train-00000-of-00001-85322ccce695c64a.parquet', 'validation': 'data/validation-00000-of-00001-be4a254053c6597e.parquet', 'test': 'data/test-00000-of-00001-bffdf59021fc4727.parquet', 'test_500': 'data/test_500-00000-of-00001-eecd64053219e0a6.parquet', 'validation_500': 'data/validation_500-00000-of-00001-083829d9f38ded86.parquet'}\n",
    "df = pd.read_parquet(\"hf://datasets/chronbmm/sanskrit-sandhi-split-sighum/\" + splits[\"train\"])"
   ]
  },
  {
   "cell_type": "code",
   "execution_count": 7,
   "metadata": {},
   "outputs": [
    {
     "data": {
      "text/html": [
       "<div>\n",
       "<style scoped>\n",
       "    .dataframe tbody tr th:only-of-type {\n",
       "        vertical-align: middle;\n",
       "    }\n",
       "\n",
       "    .dataframe tbody tr th {\n",
       "        vertical-align: top;\n",
       "    }\n",
       "\n",
       "    .dataframe thead th {\n",
       "        text-align: right;\n",
       "    }\n",
       "</style>\n",
       "<table border=\"1\" class=\"dataframe\">\n",
       "  <thead>\n",
       "    <tr style=\"text-align: right;\">\n",
       "      <th></th>\n",
       "      <th>sentence</th>\n",
       "      <th>unsandhied</th>\n",
       "    </tr>\n",
       "  </thead>\n",
       "  <tbody>\n",
       "    <tr>\n",
       "      <th>0</th>\n",
       "      <td>kṛṣṇa uvāca</td>\n",
       "      <td>kṛṣṇaḥ uvāca</td>\n",
       "    </tr>\n",
       "    <tr>\n",
       "      <th>1</th>\n",
       "      <td>śālvasya nagaraṃ saubhaṃ gato 'haṃ bharatarṣabha</td>\n",
       "      <td>śālvasya nagaram saubham gataḥ aham bharata ṛṣ...</td>\n",
       "    </tr>\n",
       "    <tr>\n",
       "      <th>2</th>\n",
       "      <td>śrutvā taṃ nihataṃ śālvas tīvraroṣasamanvitaḥ</td>\n",
       "      <td>śrutvā tam nihatam śālvaḥ tīvra roṣa samanvitaḥ</td>\n",
       "    </tr>\n",
       "    <tr>\n",
       "      <th>3</th>\n",
       "      <td>kumbhake kevale siddhe kiṃ na sidhyati bhūtale</td>\n",
       "      <td>kumbhake kevale siddhe kim na sidhyati bhū tale</td>\n",
       "    </tr>\n",
       "    <tr>\n",
       "      <th>4</th>\n",
       "      <td>taṃ hatvā vinivartiṣye kaṃsakeśiniṣūdanam</td>\n",
       "      <td>tam hatvā vinivartiṣye kaṃsa keśi niṣūdanam</td>\n",
       "    </tr>\n",
       "  </tbody>\n",
       "</table>\n",
       "</div>"
      ],
      "text/plain": [
       "                                           sentence  \\\n",
       "0                                       kṛṣṇa uvāca   \n",
       "1  śālvasya nagaraṃ saubhaṃ gato 'haṃ bharatarṣabha   \n",
       "2     śrutvā taṃ nihataṃ śālvas tīvraroṣasamanvitaḥ   \n",
       "3    kumbhake kevale siddhe kiṃ na sidhyati bhūtale   \n",
       "4         taṃ hatvā vinivartiṣye kaṃsakeśiniṣūdanam   \n",
       "\n",
       "                                          unsandhied  \n",
       "0                                       kṛṣṇaḥ uvāca  \n",
       "1  śālvasya nagaram saubham gataḥ aham bharata ṛṣ...  \n",
       "2    śrutvā tam nihatam śālvaḥ tīvra roṣa samanvitaḥ  \n",
       "3    kumbhake kevale siddhe kim na sidhyati bhū tale  \n",
       "4        tam hatvā vinivartiṣye kaṃsa keśi niṣūdanam  "
      ]
     },
     "execution_count": 7,
     "metadata": {},
     "output_type": "execute_result"
    }
   ],
   "source": [
    "df.head()"
   ]
  },
  {
   "cell_type": "code",
   "execution_count": 8,
   "metadata": {},
   "outputs": [],
   "source": [
    "# create a column name \"input_text\" as the \"unsandhied\" column with no spaces\n",
    "df[\"unsandhied_input_text\"] = df[\"unsandhied\"].str.replace(\" \", \"\")\n",
    "df[\"sandhied_input_text\"] = df[\"unsandhied\"].str.replace(\" \", \"\")\n"
   ]
  },
  {
   "cell_type": "code",
   "execution_count": 6,
   "metadata": {},
   "outputs": [],
   "source": [
    "# create a csv file for the dataset in data/sighum_dataset.csv\n",
    "df.to_csv(\"data/sighum_dataset.csv\", index=False)"
   ]
  },
  {
   "cell_type": "code",
   "execution_count": null,
   "metadata": {},
   "outputs": [],
   "source": []
  }
 ],
 "metadata": {
  "kernelspec": {
   "display_name": "newenv",
   "language": "python",
   "name": "python3"
  },
  "language_info": {
   "codemirror_mode": {
    "name": "ipython",
    "version": 3
   },
   "file_extension": ".py",
   "mimetype": "text/x-python",
   "name": "python",
   "nbconvert_exporter": "python",
   "pygments_lexer": "ipython3",
   "version": "3.8.10"
  }
 },
 "nbformat": 4,
 "nbformat_minor": 2
}
